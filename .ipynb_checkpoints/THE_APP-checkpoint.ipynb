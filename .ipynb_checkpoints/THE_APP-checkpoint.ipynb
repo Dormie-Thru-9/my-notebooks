{
 "cells": [
  {
   "cell_type": "code",
   "execution_count": 1,
   "id": "8a51c271-f646-40f8-8772-57dbc55d8431",
   "metadata": {},
   "outputs": [],
   "source": [
    "import pandas as pd\n",
    "import numpy as np\n",
    "from tensorflow.keras.models import load_model  # or keras.models\n",
    "import matplotlib.pyplot as plt\n",
    "import seaborn as sns\n",
    "from ipywidgets import widgets\n",
    "from IPython.display import display, clear_output"
   ]
  },
  {
   "cell_type": "code",
   "execution_count": 2,
   "id": "55af4283-4ca7-4768-9ad1-c9853f6d82be",
   "metadata": {},
   "outputs": [],
   "source": [
    "def get_previous_week(current_week, all_weeks_sorted):\n",
    "    season = current_week // 100\n",
    "    week = current_week % 100\n",
    "\n",
    "    if week == 1:\n",
    "        prev_week = (season - 1) * 100 + 18  # last week of previous season\n",
    "    else:\n",
    "        prev_week = season * 100 + (week - 1)\n",
    "\n",
    "    return prev_week if prev_week in all_weeks_sorted else None"
   ]
  },
  {
   "cell_type": "code",
   "execution_count": 3,
   "id": "fd18bae6-14f7-40ad-b294-0c84e3354f71",
   "metadata": {},
   "outputs": [],
   "source": [
    "gru_embedding_df = pd.read_csv(\"gru_team_embeddings_by_week.csv\")\n",
    "mlp_embeddings_df = pd.read_csv(\"mlp_2023_2024_embeddings.csv\")\n",
    "mlp_embeddings_df.set_index(\"team\", inplace=False)  # Leave as-is for widget\n",
    "\n",
    "all_weeks = sorted(gru_embedding_df['seasonweek'].unique())\n",
    "upcoming_weeks = [202501, 202502, 202503, 202504, 202505, 202506, 202507, 202508, 202509, 202510, 202511, 202512, 202513, 202514, 202515, 202516, 202517, 202518]\n",
    "full_week_list = sorted(set(all_weeks + upcoming_weeks))\n",
    "gru_embedding_cols = [col for col in gru_embedding_df.columns if col.startswith(\"emb_\")]\n",
    "mlp_embedding_cols = [col for col in mlp_embeddings_df.columns if col.startswith(\"mlp_emb_\")]"
   ]
  },
  {
   "cell_type": "code",
   "execution_count": 4,
   "id": "149a7cd6-cafb-4be2-8d4a-c5a1cfb4bdf5",
   "metadata": {},
   "outputs": [],
   "source": [
    "def predict_game(team_a, team_b, week, interaction_model,\n",
    "                 mlp_df, gru_df, gru_cols, mlp_cols):\n",
    "    prev_week = get_previous_week(week, all_weeks)\n",
    "    try:\n",
    "        t1_gru = gru_df.loc[(gru_df['team'] == team_a) & (gru_df['seasonweek'] == prev_week), gru_cols].values.flatten()\n",
    "        t2_gru = gru_df.loc[(gru_df['team'] == team_b) & (gru_df['seasonweek'] == prev_week), gru_cols].values.flatten()\n",
    "\n",
    "        t1_mlp = mlp_df.loc[mlp_df['team'] == team_a, mlp_cols].values.flatten()\n",
    "        t2_mlp = mlp_df.loc[mlp_df['team'] == team_b, mlp_cols].values.flatten()\n",
    "    except Exception as e:\n",
    "        return f\"❌ Embedding error: {e}\", None\n",
    "\n",
    "    input_vector = np.concatenate([t1_gru, t1_mlp, t2_gru, t2_mlp]).reshape(1, -1)\n",
    "    try:\n",
    "        prob = interaction_model.predict(input_vector)[0][0]\n",
    "        winner = team_a if prob >= 0.5 else team_b\n",
    "        return f\"✅ {team_a} win probability: {prob:.4f}\\n🏆 Predicted winner: {winner}\", prob\n",
    "    except Exception as e:\n",
    "        return f\"❌ Prediction error: {e}\", None"
   ]
  },
  {
   "cell_type": "code",
   "execution_count": 5,
   "id": "56fa8448-5fd0-494c-820b-f80bdd358bfb",
   "metadata": {},
   "outputs": [],
   "source": [
    "interaction_model = load_model(\"interaction_model_rolling_window.keras\")"
   ]
  },
  {
   "cell_type": "code",
   "execution_count": 6,
   "id": "e7e20dd4-df21-44e8-8302-5f46d5885614",
   "metadata": {},
   "outputs": [],
   "source": [
    "team_a_widget = widgets.Dropdown(\n",
    "    options=mlp_embeddings_df['team'].tolist(), description=\"Team A:\"\n",
    ")\n",
    "team_b_widget = widgets.Dropdown(\n",
    "    options=mlp_embeddings_df['team'].tolist(), description=\"Team B:\"\n",
    ")\n",
    "week_widget = widgets.Dropdown(\n",
    "    options=[(f\"{w // 100} Week {w % 100}\", w) for w in full_week_list],\n",
    "    value=full_week_list[0],\n",
    "    description=\"Week:\"\n",
    ")\n",
    "output = widgets.Output()"
   ]
  },
  {
   "cell_type": "code",
   "execution_count": 7,
   "id": "3a0c3614-de6c-40d6-ad25-be0e34c0922a",
   "metadata": {},
   "outputs": [],
   "source": [
    "def on_button_click(b):\n",
    "    with output:\n",
    "        clear_output()\n",
    "        team_a = team_a_widget.value\n",
    "        team_b = team_b_widget.value\n",
    "        week = week_widget.value\n",
    "        msg, _ = predict_game(team_a, team_b, week, interaction_model, mlp_embeddings_df, gru_embedding_df, gru_embedding_cols, mlp_embedding_cols)\n",
    "        print(msg)"
   ]
  },
  {
   "cell_type": "code",
   "execution_count": 8,
   "id": "6f89f3a4-11de-41fe-8990-5e37a28d7b4b",
   "metadata": {},
   "outputs": [
    {
     "data": {
      "application/vnd.jupyter.widget-view+json": {
       "model_id": "fe0b3ba0a9a543d3aaea17e2b5fa8bad",
       "version_major": 2,
       "version_minor": 0
      },
      "text/plain": [
       "Dropdown(description='Team A:', options=('CRD', 'ATL', 'RAV', 'BUF', 'CAR', 'CHI', 'CIN', 'CLE', 'DAL', 'DEN',…"
      ]
     },
     "metadata": {},
     "output_type": "display_data"
    },
    {
     "data": {
      "application/vnd.jupyter.widget-view+json": {
       "model_id": "c017ff95d37946e6845a724b994dcda3",
       "version_major": 2,
       "version_minor": 0
      },
      "text/plain": [
       "Dropdown(description='Team B:', options=('CRD', 'ATL', 'RAV', 'BUF', 'CAR', 'CHI', 'CIN', 'CLE', 'DAL', 'DEN',…"
      ]
     },
     "metadata": {},
     "output_type": "display_data"
    },
    {
     "data": {
      "application/vnd.jupyter.widget-view+json": {
       "model_id": "a3317bc8f67f4e77bfbcfcee219958e2",
       "version_major": 2,
       "version_minor": 0
      },
      "text/plain": [
       "Dropdown(description='Week:', options=(('2022 Week 2', np.int64(202202)), ('2022 Week 3', np.int64(202203)), (…"
      ]
     },
     "metadata": {},
     "output_type": "display_data"
    },
    {
     "data": {
      "application/vnd.jupyter.widget-view+json": {
       "model_id": "9a5021b25f86468396fe401e1138229e",
       "version_major": 2,
       "version_minor": 0
      },
      "text/plain": [
       "Button(description='Predict Game', style=ButtonStyle())"
      ]
     },
     "metadata": {},
     "output_type": "display_data"
    },
    {
     "data": {
      "application/vnd.jupyter.widget-view+json": {
       "model_id": "57a5d0b582c642a79569e73f14b5271d",
       "version_major": 2,
       "version_minor": 0
      },
      "text/plain": [
       "Output()"
      ]
     },
     "metadata": {},
     "output_type": "display_data"
    }
   ],
   "source": [
    "predict_button = widgets.Button(description=\"Predict Game\")\n",
    "predict_button.on_click(on_button_click)\n",
    "\n",
    "\n",
    "display(team_a_widget, team_b_widget, week_widget, predict_button, output)"
   ]
  },
  {
   "cell_type": "code",
   "execution_count": null,
   "id": "1a6e4113-7cde-45cf-8d01-9e0e9a3d504e",
   "metadata": {},
   "outputs": [],
   "source": []
  }
 ],
 "metadata": {
  "kernelspec": {
   "display_name": "Python (nflvenv)",
   "language": "python",
   "name": "nflvenv"
  },
  "language_info": {
   "codemirror_mode": {
    "name": "ipython",
    "version": 3
   },
   "file_extension": ".py",
   "mimetype": "text/x-python",
   "name": "python",
   "nbconvert_exporter": "python",
   "pygments_lexer": "ipython3",
   "version": "3.9.6"
  }
 },
 "nbformat": 4,
 "nbformat_minor": 5
}
