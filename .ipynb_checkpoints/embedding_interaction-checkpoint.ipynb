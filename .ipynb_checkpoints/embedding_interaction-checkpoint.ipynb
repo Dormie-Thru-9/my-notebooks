{
 "cells": [
  {
   "cell_type": "code",
   "execution_count": 1,
   "id": "a4f8b706-42df-49d7-9894-5af20f8788a9",
   "metadata": {},
   "outputs": [],
   "source": [
    "import pandas as pd\n",
    "import numpy as np\n",
    "import matplotlib.pyplot as plt\n",
    "from tensorflow.keras.models import Sequential\n",
    "from tensorflow.keras.layers import Dense, Dropout\n",
    "from tensorflow.keras.optimizers import Adam"
   ]
  },
  {
   "cell_type": "code",
   "execution_count": 135,
   "id": "2e0a0159-77c4-47d5-bf9e-a659ba54612f",
   "metadata": {},
   "outputs": [
    {
     "data": {
      "text/html": [
       "<div>\n",
       "<style scoped>\n",
       "    .dataframe tbody tr th:only-of-type {\n",
       "        vertical-align: middle;\n",
       "    }\n",
       "\n",
       "    .dataframe tbody tr th {\n",
       "        vertical-align: top;\n",
       "    }\n",
       "\n",
       "    .dataframe thead th {\n",
       "        text-align: right;\n",
       "    }\n",
       "</style>\n",
       "<table border=\"1\" class=\"dataframe\">\n",
       "  <thead>\n",
       "    <tr style=\"text-align: right;\">\n",
       "      <th></th>\n",
       "      <th>Week</th>\n",
       "      <th>Seasonweek</th>\n",
       "      <th>Winner</th>\n",
       "      <th>Loser</th>\n",
       "      <th>Home Team</th>\n",
       "      <th>Away Team</th>\n",
       "    </tr>\n",
       "  </thead>\n",
       "  <tbody>\n",
       "    <tr>\n",
       "      <th>0</th>\n",
       "      <td>1</td>\n",
       "      <td>202401</td>\n",
       "      <td>KAN</td>\n",
       "      <td>RAV</td>\n",
       "      <td>KAN</td>\n",
       "      <td>RAV</td>\n",
       "    </tr>\n",
       "    <tr>\n",
       "      <th>1</th>\n",
       "      <td>1</td>\n",
       "      <td>202401</td>\n",
       "      <td>PHI</td>\n",
       "      <td>GNB</td>\n",
       "      <td>PHI</td>\n",
       "      <td>GNB</td>\n",
       "    </tr>\n",
       "    <tr>\n",
       "      <th>2</th>\n",
       "      <td>1</td>\n",
       "      <td>202401</td>\n",
       "      <td>PIT</td>\n",
       "      <td>ATL</td>\n",
       "      <td>ATL</td>\n",
       "      <td>PIT</td>\n",
       "    </tr>\n",
       "    <tr>\n",
       "      <th>3</th>\n",
       "      <td>1</td>\n",
       "      <td>202401</td>\n",
       "      <td>BUF</td>\n",
       "      <td>CRD</td>\n",
       "      <td>BUF</td>\n",
       "      <td>CRD</td>\n",
       "    </tr>\n",
       "    <tr>\n",
       "      <th>4</th>\n",
       "      <td>1</td>\n",
       "      <td>202401</td>\n",
       "      <td>NOR</td>\n",
       "      <td>CAR</td>\n",
       "      <td>NOR</td>\n",
       "      <td>CAR</td>\n",
       "    </tr>\n",
       "    <tr>\n",
       "      <th>...</th>\n",
       "      <td>...</td>\n",
       "      <td>...</td>\n",
       "      <td>...</td>\n",
       "      <td>...</td>\n",
       "      <td>...</td>\n",
       "      <td>...</td>\n",
       "    </tr>\n",
       "    <tr>\n",
       "      <th>267</th>\n",
       "      <td>18</td>\n",
       "      <td>202418</td>\n",
       "      <td>DEN</td>\n",
       "      <td>KAN</td>\n",
       "      <td>DEN</td>\n",
       "      <td>KAN</td>\n",
       "    </tr>\n",
       "    <tr>\n",
       "      <th>268</th>\n",
       "      <td>18</td>\n",
       "      <td>202418</td>\n",
       "      <td>NYJ</td>\n",
       "      <td>MIA</td>\n",
       "      <td>NYJ</td>\n",
       "      <td>MIA</td>\n",
       "    </tr>\n",
       "    <tr>\n",
       "      <th>269</th>\n",
       "      <td>18</td>\n",
       "      <td>202418</td>\n",
       "      <td>SDG</td>\n",
       "      <td>RAI</td>\n",
       "      <td>RAI</td>\n",
       "      <td>SDG</td>\n",
       "    </tr>\n",
       "    <tr>\n",
       "      <th>270</th>\n",
       "      <td>18</td>\n",
       "      <td>202418</td>\n",
       "      <td>SEA</td>\n",
       "      <td>RAM</td>\n",
       "      <td>RAM</td>\n",
       "      <td>SEA</td>\n",
       "    </tr>\n",
       "    <tr>\n",
       "      <th>271</th>\n",
       "      <td>18</td>\n",
       "      <td>202418</td>\n",
       "      <td>DET</td>\n",
       "      <td>MIN</td>\n",
       "      <td>DET</td>\n",
       "      <td>MIN</td>\n",
       "    </tr>\n",
       "  </tbody>\n",
       "</table>\n",
       "<p>272 rows × 6 columns</p>\n",
       "</div>"
      ],
      "text/plain": [
       "     Week  Seasonweek Winner Loser Home Team Away Team\n",
       "0       1      202401    KAN   RAV       KAN       RAV\n",
       "1       1      202401    PHI   GNB       PHI       GNB\n",
       "2       1      202401    PIT   ATL       ATL       PIT\n",
       "3       1      202401    BUF   CRD       BUF       CRD\n",
       "4       1      202401    NOR   CAR       NOR       CAR\n",
       "..    ...         ...    ...   ...       ...       ...\n",
       "267    18      202418    DEN   KAN       DEN       KAN\n",
       "268    18      202418    NYJ   MIA       NYJ       MIA\n",
       "269    18      202418    SDG   RAI       RAI       SDG\n",
       "270    18      202418    SEA   RAM       RAM       SEA\n",
       "271    18      202418    DET   MIN       DET       MIN\n",
       "\n",
       "[272 rows x 6 columns]"
      ]
     },
     "execution_count": 135,
     "metadata": {},
     "output_type": "execute_result"
    }
   ],
   "source": [
    "nfl_sched_2024 = pd.read_excel('nfl_2024_schedule.xlsx')\n",
    "nfl_sched_2024"
   ]
  },
  {
   "cell_type": "code",
   "execution_count": 122,
   "id": "bdfa93be-8e2d-4e49-b702-dcc0944ea8c5",
   "metadata": {},
   "outputs": [],
   "source": [
    "games = []\n",
    "for _, row in nfl_sched_2024.iterrows():\n",
    "    games.append({\n",
    "        'week': int(row['Seasonweek']),\n",
    "        'away': row['Away Team'],\n",
    "        'home': row['Home Team'],\n",
    "        'winner': row['Winner']\n",
    "    })"
   ]
  },
  {
   "cell_type": "code",
   "execution_count": 123,
   "id": "c308486f-db6e-41c7-8b4c-6c93eb0d3f63",
   "metadata": {},
   "outputs": [],
   "source": [
    "games_formatted = []\n",
    "\n",
    "for g in games:\n",
    "    games_formatted.append({\n",
    "        'week': g['week'],\n",
    "        'team_a': g['away'],  # Always away team\n",
    "        'team_b': g['home'],  # Always home team\n",
    "        'winner': g['winner']\n",
    "    })"
   ]
  },
  {
   "cell_type": "code",
   "execution_count": 136,
   "id": "b6324801-45b3-41a4-b1f5-faa7c4b25a0a",
   "metadata": {},
   "outputs": [],
   "source": [
    "# Load embeddings\n",
    "gru_embedding_df = pd.read_csv('gru_team_embeddings_by_week.csv')\n",
    "mlp_embedding_df = pd.read_csv('mlp_2023_2024_embeddings.csv')\n",
    "mlp_embedding_df.set_index('team', inplace=True)"
   ]
  },
  {
   "cell_type": "code",
   "execution_count": 137,
   "id": "f59528c8-6cb3-4c8d-af55-457c88cb3ac6",
   "metadata": {},
   "outputs": [],
   "source": [
    "def build_interaction_model(input_dim):\n",
    "    model = Sequential([\n",
    "        Dense(64, activation='relu', input_shape=(input_dim,)),\n",
    "        Dropout(0.2),\n",
    "        Dense(32, activation='relu'),\n",
    "        Dropout(0.2),\n",
    "        Dense(1, activation='sigmoid')\n",
    "    ])\n",
    "    model.compile(optimizer=Adam(learning_rate=0.0001),\n",
    "                  loss='binary_crossentropy', metrics=['accuracy'])\n",
    "    return model"
   ]
  },
  {
   "cell_type": "code",
   "execution_count": 138,
   "id": "97daa2f0-c7cf-46c1-a4c6-8ddb2b12493e",
   "metadata": {},
   "outputs": [],
   "source": [
    "def get_gru_embedding(team, seasonweek, df, embedding_cols):\n",
    "    row = df[(df['team'] == team) & (df['seasonweek'] == seasonweek)]\n",
    "    if row.empty:\n",
    "        raise KeyError(f\"No GRU embedding for {team} at week {seasonweek}\")\n",
    "    return row[embedding_cols].values[0]"
   ]
  },
  {
   "cell_type": "code",
   "execution_count": 139,
   "id": "be94e186-6bcd-4c9c-bf0c-d8ff08e21709",
   "metadata": {},
   "outputs": [],
   "source": [
    "def get_previous_week(current_week, all_weeks):\n",
    "    season, week = divmod(current_week, 100)\n",
    "    prev_week = (season - 1) * 100 + 18 if week == 1 else season * 100 + (week - 1)\n",
    "    return prev_week if prev_week in all_weeks else None"
   ]
  },
  {
   "cell_type": "code",
   "execution_count": 140,
   "id": "c3e6936c-a6e6-42bf-8519-ec4a52ce56f5",
   "metadata": {},
   "outputs": [
    {
     "name": "stdout",
     "output_type": "stream",
     "text": [
      "GRU embedding dim: 16\n",
      "MLP embedding dim: 32\n",
      "Total input dimension: 96\n"
     ]
    }
   ],
   "source": [
    "embedding_cols = [col for col in gru_embedding_df.columns if col.startswith('emb_')]\n",
    "gru_dim = len(embedding_cols)\n",
    "mlp_dim = mlp_embedding_df.shape[1]\n",
    "input_dim = 2 * (gru_dim + mlp_dim)\n",
    "\n",
    "print(f\"GRU embedding dim: {gru_dim}\")\n",
    "print(f\"MLP embedding dim: {mlp_dim}\")\n",
    "print(f\"Total input dimension: {input_dim}\")"
   ]
  },
  {
   "cell_type": "code",
   "execution_count": 141,
   "id": "accaed74-8128-4582-a4b3-3cbf78968d8a",
   "metadata": {},
   "outputs": [
    {
     "name": "stderr",
     "output_type": "stream",
     "text": [
      "C:\\Users\\danbi\\nflvenv\\lib\\site-packages\\keras\\src\\layers\\core\\dense.py:93: UserWarning: Do not pass an `input_shape`/`input_dim` argument to a layer. When using Sequential models, prefer using an `Input(shape)` object as the first layer in the model instead.\n",
      "  super().__init__(activity_regularizer=activity_regularizer, **kwargs)\n"
     ]
    }
   ],
   "source": [
    "interaction_model = build_interaction_model(input_dim)"
   ]
  },
  {
   "cell_type": "code",
   "execution_count": 142,
   "id": "9da49e8e-ffd6-43a1-bada-e52748dd6415",
   "metadata": {},
   "outputs": [],
   "source": [
    "all_weeks = sorted(set(game['week'] for game in games_formatted))"
   ]
  },
  {
   "cell_type": "code",
   "execution_count": 143,
   "id": "0c4a266e-63dc-4bb5-9c22-c7d50082773c",
   "metadata": {},
   "outputs": [
    {
     "name": "stdout",
     "output_type": "stream",
     "text": [
      "\n",
      "🚂 Training window: [202401, 202402]\n",
      "  ▶ 32 games, input shape (32, 96)\n",
      "\n",
      "🚂 Training window: [202402, 202403]\n",
      "  ▶ 32 games, input shape (32, 96)\n",
      "\n",
      "🚂 Training window: [202403, 202404]\n",
      "  ▶ 32 games, input shape (32, 96)\n",
      "\n",
      "🚂 Training window: [202404, 202405]\n",
      "  ▶ 30 games, input shape (30, 96)\n",
      "\n",
      "🚂 Training window: [202405, 202406]\n",
      "  ▶ 28 games, input shape (28, 96)\n",
      "\n",
      "🚂 Training window: [202406, 202407]\n",
      "  ▶ 29 games, input shape (29, 96)\n",
      "\n",
      "🚂 Training window: [202407, 202408]\n",
      "  ▶ 31 games, input shape (31, 96)\n",
      "\n",
      "🚂 Training window: [202408, 202409]\n",
      "  ▶ 31 games, input shape (31, 96)\n",
      "\n",
      "🚂 Training window: [202409, 202410]\n",
      "  ▶ 29 games, input shape (29, 96)\n",
      "\n",
      "🚂 Training window: [202410, 202411]\n",
      "  ▶ 28 games, input shape (28, 96)\n",
      "\n",
      "🚂 Training window: [202411, 202412]\n",
      "  ▶ 27 games, input shape (27, 96)\n",
      "\n",
      "🚂 Training window: [202412, 202413]\n",
      "  ▶ 29 games, input shape (29, 96)\n",
      "\n",
      "🚂 Training window: [202413, 202414]\n",
      "  ▶ 29 games, input shape (29, 96)\n",
      "\n",
      "🚂 Training window: [202414, 202415]\n",
      "  ▶ 29 games, input shape (29, 96)\n",
      "\n",
      "🚂 Training window: [202415, 202416]\n",
      "  ▶ 32 games, input shape (32, 96)\n",
      "\n",
      "🚂 Training window: [202416, 202417]\n",
      "  ▶ 32 games, input shape (32, 96)\n",
      "\n",
      "🚂 Training window: [202417, 202418]\n",
      "  ▶ 32 games, input shape (32, 96)\n"
     ]
    }
   ],
   "source": [
    "window_size = 2\n",
    "all_train_losses, all_train_accuracies, all_weeks_trained = [], [], []\n",
    "\n",
    "for i in range(window_size - 1, len(all_weeks)):\n",
    "    weeks_to_train = all_weeks[i - window_size + 1: i + 1]\n",
    "    print(f\"\\n🚂 Training window: {weeks_to_train}\")\n",
    "\n",
    "    X, y = [], []\n",
    "    for g in games_formatted:\n",
    "        if g['week'] not in weeks_to_train:\n",
    "            continue\n",
    "\n",
    "        t1, t2 = g['team_a'], g['team_b']\n",
    "        try:\n",
    "            gru_a = get_gru_embedding(t1, g['week'], gru_embedding_df, embedding_cols).flatten()\n",
    "            gru_b = get_gru_embedding(t2, g['week'], gru_embedding_df, embedding_cols).flatten()\n",
    "            mlp_a = mlp_embedding_df.loc[t1].values.flatten()\n",
    "            mlp_b = mlp_embedding_df.loc[t2].values.flatten()\n",
    "        except Exception as e:\n",
    "            print(f\"  ❌ skipping {t1} vs {t2} (wk {g['week']}): {e}\")\n",
    "            continue\n",
    "\n",
    "        input_vec = np.concatenate([gru_a, mlp_a, gru_b, mlp_b])\n",
    "        X.append(input_vec)\n",
    "        y.append(1 if g['winner'] == t1 else 0)\n",
    "\n",
    "    X = np.array(X, dtype=np.float32)\n",
    "    y = np.array(y, dtype=np.float32)\n",
    "\n",
    "    print(f\"  ▶ {X.shape[0]} games, input shape {X.shape}\")\n",
    "    if X.shape[0] == 0:\n",
    "        print(\"  ‼️ No games to train on\")\n",
    "        continue\n",
    "\n",
    "    history = interaction_model.fit(X, y, epochs=20, batch_size=16, verbose=0)\n",
    "    all_train_losses.append(history.history['loss'][-1])\n",
    "    all_train_accuracies.append(history.history['accuracy'][-1])\n",
    "    all_weeks_trained.append(all_weeks[i])\n"
   ]
  },
  {
   "cell_type": "code",
   "execution_count": 144,
   "id": "7e98848c-6147-462f-9d66-ebde17be5808",
   "metadata": {},
   "outputs": [
    {
     "data": {
      "image/png": "[encoded data removed]",
      "text/plain": [
       "<Figure size 1200x500 with 2 Axes>"
      ]
     },
     "metadata": {},
     "output_type": "display_data"
    }
   ],
   "source": [
    "def plot_rolling_window_training(weeks, losses, accuracies):\n",
    "    plt.figure(figsize=(12, 5))\n",
    "\n",
    "    plt.subplot(1, 2, 1)\n",
    "    plt.plot(weeks, accuracies, marker='o', label='Accuracy')\n",
    "    plt.xlabel(\"Week\")\n",
    "    plt.ylabel(\"Accuracy\")\n",
    "    plt.title(\"Rolling Window Accuracy\")\n",
    "    plt.grid(True)\n",
    "    plt.xticks(rotation=45)\n",
    "    plt.legend()\n",
    "\n",
    "    plt.subplot(1, 2, 2)\n",
    "    plt.plot(weeks, losses, marker='o', color='orange', label='Loss')\n",
    "    plt.xlabel(\"Week\")\n",
    "    plt.ylabel(\"Loss\")\n",
    "    plt.title(\"Rolling Window Loss\")\n",
    "    plt.grid(True)\n",
    "    plt.xticks(rotation=45)\n",
    "    plt.legend()\n",
    "\n",
    "    plt.tight_layout()\n",
    "    plt.show()\n",
    "\n",
    "plot_rolling_window_training(all_weeks_trained, all_train_losses, all_train_accuracies)"
   ]
  },
  {
   "cell_type": "code",
   "execution_count": 145,
   "id": "3c6d065f-788a-4dfd-b8aa-56a78a153256",
   "metadata": {},
   "outputs": [],
   "source": [
    "def predict_game(team_a, team_b, week, interaction_model, mlp_embeddings, gru_embedding_df, embedding_cols, all_weeks_sorted):\n",
    "    prev_week = get_previous_week(week, all_weeks_sorted)\n",
    "\n",
    "    def get_gru(team, seasonweek):\n",
    "        row = gru_embedding_df[(gru_embedding_df['team'] == team) & (gru_embedding_df['seasonweek'] == seasonweek)]\n",
    "        if row.empty:\n",
    "            raise ValueError(f\"No GRU embedding found for team {team} at week {seasonweek}\")\n",
    "        return row[embedding_cols].values[0]\n",
    "\n",
    "    try:\n",
    "        t1_gru = get_gru(team_a, prev_week)\n",
    "        t2_gru = get_gru(team_b, prev_week)\n",
    "        t1_mlp = mlp_embeddings[team_a].squeeze()\n",
    "        t2_mlp = mlp_embeddings[team_b].squeeze()\n",
    "    except Exception as e:\n",
    "        print(f\"Embedding error: {e}\")\n",
    "        return None\n",
    "\n",
    "    input_vector = np.concatenate([t1_gru, t1_mlp, t2_gru, t2_mlp]).reshape(1, -1)\n",
    "    prob_team_a_wins = interaction_model.predict(input_vector)[0][0]\n",
    "    predicted_winner = team_a if prob_team_a_wins >= 0.5 else team_b\n",
    "\n",
    "    print(f\"{team_a} vs {team_b} (Week {week}) → {team_a} win prob: {prob_team_a_wins:.4f}\")\n",
    "    print(f\"🟩 Predicted winner: {predicted_winner}\")\n",
    "    return prob_team_a_wins, predicted_winner"
   ]
  },
  {
   "cell_type": "code",
   "execution_count": 146,
   "id": "6a329dcc-4641-448e-8559-4ae2ef944459",
   "metadata": {},
   "outputs": [
    {
     "name": "stdout",
     "output_type": "stream",
     "text": [
      "\u001b[1m1/1\u001b[0m \u001b[32m━━━━━━━━━━━━━━━━━━━━\u001b[0m\u001b[37m\u001b[0m \u001b[1m0s\u001b[0m 55ms/step\n",
      "CLT vs GNB (Week 202402) → CLT win prob: 0.2241\n",
      "🟩 Predicted winner: GNB\n"
     ]
    },
    {
     "data": {
      "text/plain": [
       "(np.float32(0.22412518), 'GNB')"
      ]
     },
     "execution_count": 146,
     "metadata": {},
     "output_type": "execute_result"
    }
   ],
   "source": [
    "# Example game\n",
    "predict_game('CLT', 'GNB', 202402, interaction_model, mlp_embeddings, gru_embedding_df, embedding_cols, all_weeks)"
   ]
  },
  {
   "cell_type": "code",
   "execution_count": 147,
   "id": "b8cff5fe-eade-4290-9c3a-f5b9e92df96b",
   "metadata": {},
   "outputs": [
    {
     "name": "stdout",
     "output_type": "stream",
     "text": [
      "\u001b[1m1/1\u001b[0m \u001b[32m━━━━━━━━━━━━━━━━━━━━\u001b[0m\u001b[37m\u001b[0m \u001b[1m0s\u001b[0m 31ms/step\n",
      "CHI vs HTX (Week 202402) → CHI win prob: 0.2749\n",
      "🟩 Predicted winner: HTX\n"
     ]
    },
    {
     "data": {
      "text/plain": [
       "(np.float32(0.27487305), 'HTX')"
      ]
     },
     "execution_count": 147,
     "metadata": {},
     "output_type": "execute_result"
    }
   ],
   "source": [
    "predict_game('CHI', 'HTX', 202402, interaction_model, mlp_embeddings, gru_embedding_df, embedding_cols, all_weeks)"
   ]
  },
  {
   "cell_type": "code",
   "execution_count": 148,
   "id": "52a52ab6-5d72-4935-94b8-f2ec73ef511c",
   "metadata": {},
   "outputs": [
    {
     "name": "stdout",
     "output_type": "stream",
     "text": [
      "\u001b[1m1/1\u001b[0m \u001b[32m━━━━━━━━━━━━━━━━━━━━\u001b[0m\u001b[37m\u001b[0m \u001b[1m0s\u001b[0m 30ms/step\n",
      "PIT vs DEN (Week 202402) → PIT win prob: 0.5733\n",
      "🟩 Predicted winner: PIT\n"
     ]
    },
    {
     "data": {
      "text/plain": [
       "(np.float32(0.57326555), 'PIT')"
      ]
     },
     "execution_count": 148,
     "metadata": {},
     "output_type": "execute_result"
    }
   ],
   "source": [
    "predict_game('PIT', 'DEN', 202402, interaction_model, mlp_embeddings, gru_embedding_df, embedding_cols, all_weeks)"
   ]
  },
  {
   "cell_type": "code",
   "execution_count": 149,
   "id": "d20bec72-a00e-40a7-8320-b7963bd32614",
   "metadata": {},
   "outputs": [
    {
     "name": "stdout",
     "output_type": "stream",
     "text": [
      "\u001b[1m1/1\u001b[0m \u001b[32m━━━━━━━━━━━━━━━━━━━━\u001b[0m\u001b[37m\u001b[0m \u001b[1m0s\u001b[0m 32ms/step\n",
      "NYG vs WAS (Week 202402) → NYG win prob: 0.2432\n",
      "🟩 Predicted winner: WAS\n"
     ]
    },
    {
     "data": {
      "text/plain": [
       "(np.float32(0.24320133), 'WAS')"
      ]
     },
     "execution_count": 149,
     "metadata": {},
     "output_type": "execute_result"
    }
   ],
   "source": [
    "predict_game('NYG', 'WAS', 202402, interaction_model, mlp_embeddings, gru_embedding_df, embedding_cols, all_weeks)"
   ]
  },
  {
   "cell_type": "code",
   "execution_count": 150,
   "id": "1d7c3eb3-4e7b-4afb-828e-e53ad1ead133",
   "metadata": {},
   "outputs": [
    {
     "name": "stdout",
     "output_type": "stream",
     "text": [
      "\u001b[1m1/1\u001b[0m \u001b[32m━━━━━━━━━━━━━━━━━━━━\u001b[0m\u001b[37m\u001b[0m \u001b[1m0s\u001b[0m 30ms/step\n",
      "CLE vs JAX (Week 202402) → CLE win prob: 0.1744\n",
      "🟩 Predicted winner: JAX\n"
     ]
    },
    {
     "data": {
      "text/plain": [
       "(np.float32(0.1744237), 'JAX')"
      ]
     },
     "execution_count": 150,
     "metadata": {},
     "output_type": "execute_result"
    }
   ],
   "source": [
    "predict_game('CLE', 'JAX', 202402, interaction_model, mlp_embeddings, gru_embedding_df, embedding_cols, all_weeks)"
   ]
  },
  {
   "cell_type": "code",
   "execution_count": 151,
   "id": "95e48079-5536-48bd-ad53-87ded2ac0706",
   "metadata": {},
   "outputs": [],
   "source": [
    "# Save the trained interaction model\n",
    "interaction_model.save('interaction_model_rolling_window.keras')"
   ]
  },
  {
   "cell_type": "code",
   "execution_count": null,
   "id": "b6c882f9-e1d1-407f-8ca6-e64f65a1ac6c",
   "metadata": {},
   "outputs": [],
   "source": []
  }
 ],
 "metadata": {
  "kernelspec": {
   "display_name": "Python (nflvenv)",
   "language": "python",
   "name": "nflvenv"
  },
  "language_info": {
   "codemirror_mode": {
    "name": "ipython",
    "version": 3
   },
   "file_extension": ".py",
   "mimetype": "text/x-python",
   "name": "python",
   "nbconvert_exporter": "python",
   "pygments_lexer": "ipython3",
   "version": "3.9.6"
  }
 },
 "nbformat": 4,
 "nbformat_minor": 5
}
