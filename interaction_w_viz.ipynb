{
 "cells": [
  {
   "cell_type": "code",
   "execution_count": 33,
   "id": "cd83f27b-24b1-4830-842e-98b5c49280a0",
   "metadata": {},
   "outputs": [],
   "source": [
    "# NFL Game Outcome Interaction Model with Rolling Window Training and Voila Visualization\n",
    "\n",
    "import pandas as pd\n",
    "import numpy as np\n",
    "import matplotlib.pyplot as plt\n",
    "from matplotlib import animation\n",
    "from IPython.display import HTML\n",
    "from tensorflow.keras.models import Sequential, load_model\n",
    "from tensorflow.keras.layers import Dense, Dropout\n",
    "from tensorflow.keras.optimizers import Adam\n",
    "from ipywidgets import widgets\n",
    "from IPython.display import display, clear_output\n",
    "from sklearn.decomposition import PCA\n",
    "from sklearn.metrics.pairwise import cosine_similarity\n",
    "import plotly.express as px"
   ]
  },
  {
   "cell_type": "code",
   "execution_count": 38,
   "id": "23bb4236-4c20-4f59-a9fc-1a0e9612c1a5",
   "metadata": {},
   "outputs": [],
   "source": [
    "# ---------------------------\n",
    "# Helper Functions\n",
    "# ---------------------------\n",
    "def get_previous_week(current_week, all_weeks_sorted):\n",
    "    season = current_week // 100\n",
    "    week = current_week % 100\n",
    "    if week == 1:\n",
    "        prev_week = (season - 1) * 100 + 18\n",
    "    else:\n",
    "        prev_week = season * 100 + (week - 1)\n",
    "    return prev_week if prev_week in all_weeks_sorted else None\n",
    "\n",
    "def build_interaction_model(input_dim):\n",
    "    model = Sequential([\n",
    "        Dense(64, activation='relu', input_shape=(input_dim,)),\n",
    "        Dropout(0.2),\n",
    "        Dense(32, activation='relu'),\n",
    "        Dropout(0.2),\n",
    "        Dense(1, activation='sigmoid')\n",
    "    ])\n",
    "    model.compile(optimizer=Adam(learning_rate=0.0001),\n",
    "                  loss='binary_crossentropy', metrics=['accuracy'])\n",
    "    return model"
   ]
  },
  {
   "cell_type": "code",
   "execution_count": 39,
   "id": "634b83b8-a1e1-4011-8f81-bcd89cb5f599",
   "metadata": {},
   "outputs": [],
   "source": [
    "# ---------------------------\n",
    "# Load Schedule and Embeddings\n",
    "# ---------------------------\n",
    "gru_embedding_df = pd.read_csv('gru_team_embeddings_by_week.csv')\n",
    "mlp_embedding_df = pd.read_csv('mlp_2023_2024_embeddings.csv')\n",
    "mlp_embedding_df.set_index('team', inplace=False)\n",
    "\n",
    "# Embedding column separation\n",
    "gru_embedding_cols = [col for col in gru_embedding_df.columns if col.startswith('emb_')]\n",
    "mlp_embedding_cols = [col for col in mlp_embedding_df.columns if col.startswith('mlp_emb_')]\n",
    "\n",
    "# Week list\n",
    "all_weeks = sorted(gru_embedding_df['seasonweek'].unique())\n",
    "upcoming_weeks = [202501, 202502, 202503]\n",
    "full_week_list = sorted(set(all_weeks + upcoming_weeks))"
   ]
  },
  {
   "cell_type": "code",
   "execution_count": 43,
   "id": "988b30bd-22bf-4ca6-a348-2961fffc2c5b",
   "metadata": {},
   "outputs": [],
   "source": [
    "# ---------------------------\n",
    "# Model & Prediction\n",
    "# ---------------------------\n",
    "interaction_model = load_model('interaction_model_rolling_window.keras')\n",
    "\n",
    "def predict_game(team_a, team_b, week, model, mlp_df, gru_df, gru_cols, mlp_cols):\n",
    "    prev_week = get_previous_week(week, all_weeks)\n",
    "    try:\n",
    "        t1_gru = gru_df.loc[(gru_df['team'] == team_a) & (gru_df['seasonweek'] == prev_week), gru_cols].values.flatten()\n",
    "        t2_gru = gru_df.loc[(gru_df['team'] == team_b) & (gru_df['seasonweek'] == prev_week), gru_cols].values.flatten()\n",
    "\n",
    "        t1_mlp = mlp_df.loc[mlp_df['team'] == team_a, mlp_cols].values.flatten()\n",
    "        t2_mlp = mlp_df.loc[mlp_df['team'] == team_b, mlp_cols].values.flatten()\n",
    "    except Exception as e:\n",
    "        return f\"❌ Embedding error: {e}\", None\n",
    "\n",
    "    input_vector = np.concatenate([t1_gru, t1_mlp, t2_gru, t2_mlp]).reshape(1, -1)\n",
    "    try:\n",
    "        prob = model.predict(input_vector)[0][0]\n",
    "        winner = team_a if prob >= 0.5 else team_b\n",
    "        return f\"✅ {team_a} win probability: {prob:.4f}\\n🏆 Predicted winner: {winner}\", prob\n",
    "    except Exception as e:\n",
    "        return f\"❌ Prediction error: {e}\", None"
   ]
  },
  {
   "cell_type": "code",
   "execution_count": 44,
   "id": "c7858876-c28d-4087-97fa-a7c5ef5413fb",
   "metadata": {},
   "outputs": [],
   "source": [
    "# ---------------------------\n",
    "# Widgets\n",
    "# ---------------------------\n",
    "team_a_widget = widgets.Dropdown(\n",
    "    options=mlp_embedding_df['team'].tolist(), description=\"Team A:\"\n",
    ")\n",
    "team_b_widget = widgets.Dropdown(\n",
    "    options=mlp_embedding_df['team'].tolist(), description=\"Team B:\"\n",
    ")\n",
    "week_widget = widgets.Dropdown(\n",
    "    options=[(f\"{w // 100} Week {w % 100}\", w) for w in full_week_list],\n",
    "    value=full_week_list[0],\n",
    "    description=\"Week:\"\n",
    ")\n",
    "\n",
    "output = widgets.Output()\n",
    "loadings_output = widgets.Output()\n",
    "pca_loadings_by_week = {}"
   ]
  },
  {
   "cell_type": "code",
   "execution_count": 45,
   "id": "f29953c6-6d20-4d5f-9d6e-20bfa8780b55",
   "metadata": {},
   "outputs": [],
   "source": [
    "# ---------------------------\n",
    "# Animation with PCA loadings tracking\n",
    "# ---------------------------\n",
    "def animate_gru_embeddings(gru_df):\n",
    "    team_a = team_a_widget.value\n",
    "    team_b = team_b_widget.value\n",
    "\n",
    "    all_pca_rows = []\n",
    "    weeks = sorted(gru_df['seasonweek'].unique())\n",
    "\n",
    "    for week in weeks:\n",
    "        df_week = gru_df[gru_df['seasonweek'] == week]\n",
    "        if df_week.empty:\n",
    "            continue\n",
    "        emb = df_week[gru_embedding_cols].values\n",
    "        pca = PCA(n_components=2)\n",
    "        coords = pca.fit_transform(emb)\n",
    "\n",
    "        # Save loadings\n",
    "        pca_loadings_by_week[week] = pca.components_\n",
    "\n",
    "        for j, (_, row) in enumerate(df_week.iterrows()):\n",
    "            team = row['team']\n",
    "            all_pca_rows.append({\n",
    "                'team': team,\n",
    "                'PC1': coords[j, 0],\n",
    "                'PC2': coords[j, 1],\n",
    "                'week': week,\n",
    "                'highlight': 'Team A' if team == team_a else ('Team B' if team == team_b else 'Other')\n",
    "            })\n",
    "\n",
    "    pca_df = pd.DataFrame(all_pca_rows)\n",
    "    fig = px.scatter(\n",
    "        pca_df, x='PC1', y='PC2', animation_frame='week', color='highlight',\n",
    "        hover_name='team',\n",
    "        title=\"GRU Embedding PCA Animation\",\n",
    "        category_orders={'week': sorted(pca_df['week'].unique())},\n",
    "        height=600\n",
    "    )\n",
    "    fig.update_traces(marker=dict(size=10, opacity=0.8))\n",
    "    fig.update_layout(showlegend=True)\n",
    "    return fig"
   ]
  },
  {
   "cell_type": "code",
   "execution_count": 46,
   "id": "590038d9-b9c5-40f7-b0db-0e8129c6b5df",
   "metadata": {},
   "outputs": [],
   "source": [
    "# ---------------------------\n",
    "# Embedding Visualizations\n",
    "# ---------------------------\n",
    "def generate_embedding_map(gru_df, selected_teams, target_week):\n",
    "    latest_gru = gru_df[gru_df['seasonweek'] == target_week].copy()\n",
    "    if latest_gru.empty:\n",
    "        print(f\"No GRU embeddings found for week {target_week}.\")\n",
    "        return\n",
    "\n",
    "    emb_only = latest_gru[gru_embedding_cols].values\n",
    "    teams = latest_gru['team'].values\n",
    "\n",
    "    pca = PCA(n_components=2)\n",
    "    coords = pca.fit_transform(emb_only)\n",
    "\n",
    "    plt.figure(figsize=(8, 6))\n",
    "    for i, team in enumerate(teams):\n",
    "        color = 'red' if team in selected_teams else 'blue'\n",
    "        plt.scatter(coords[i, 0], coords[i, 1], color=color)\n",
    "        plt.text(coords[i, 0] + 0.1, coords[i, 1], team, fontsize=9)\n",
    "    plt.title(f\"GRU Team Embeddings (PCA) - Week {target_week}\")\n",
    "    plt.grid(True)\n",
    "    plt.tight_layout()\n",
    "    plt.show()\n",
    "\n",
    "def compare_embeddings(team_a, team_b, mlp_df, gru_df):\n",
    "    try:\n",
    "        mlp_a = mlp_df.loc[mlp_df['team'] == team_a, mlp_embedding_cols].values.flatten()\n",
    "        mlp_b = mlp_df.loc[mlp_df['team'] == team_b, mlp_embedding_cols].values.flatten()\n",
    "        gru_a = gru_df.loc[gru_df['team'] == team_a].iloc[-1][gru_embedding_cols].values.flatten()\n",
    "        gru_b = gru_df.loc[gru_df['team'] == team_b].iloc[-1][gru_embedding_cols].values.flatten()\n",
    "\n",
    "        sim_mlp = cosine_similarity([mlp_a], [mlp_b])[0][0]\n",
    "        sim_gru = cosine_similarity([gru_a], [gru_b])[0][0]\n",
    "\n",
    "        plt.barh(['GRU Similarity', 'MLP Similarity'], [sim_gru, sim_mlp], color=['green', 'orange'])\n",
    "        plt.title(\"Team Embedding Similarity\")\n",
    "        plt.xlim(0, 1)\n",
    "        plt.show()\n",
    "    except Exception as e:\n",
    "        print(f\"Similarity comparison failed: {e}\")"
   ]
  },
  {
   "cell_type": "code",
   "execution_count": 47,
   "id": "07f8b934-c985-4ea1-a79a-810ec77cb630",
   "metadata": {},
   "outputs": [],
   "source": [
    "# ---------------------------\n",
    "# PCA loadings display\n",
    "# ---------------------------\n",
    "def update_pca_loadings_display(selected_week):\n",
    "    with loadings_output:\n",
    "        clear_output()\n",
    "        components = pca_loadings_by_week.get(selected_week)\n",
    "        if components is not None:\n",
    "            print(f\"\\n🔥 Top PCA Loadings for Week {selected_week}:\")\n",
    "            for i, comp in enumerate(components):\n",
    "                axis = f\"PC{i + 1}\"\n",
    "                top_dims = sorted([(j, abs(w)) for j, w in enumerate(comp)], key=lambda x: -x[1])[:5]\n",
    "                print(f\"{axis}:\")\n",
    "                for dim_idx, _ in top_dims:\n",
    "                    weight = comp[dim_idx]\n",
    "                    marker = \"🔥\" if abs(weight) > 0.3 else \"\"\n",
    "                    print(f\"  {marker} emb_{dim_idx:<2}: {weight:.3f}\")\n",
    "        else:\n",
    "            print(\"No PCA loadings available for this week.\")\n",
    "\n",
    "week_widget.observe(lambda change: update_pca_loadings_display(change['new']), names='value')"
   ]
  },
  {
   "cell_type": "code",
   "execution_count": 49,
   "id": "5b997f40-49f9-41b3-9563-06ec73c16e56",
   "metadata": {},
   "outputs": [
    {
     "data": {
      "application/vnd.jupyter.widget-view+json": {
       "model_id": "d4c98a6c3eb04fe7980afaeaee42aea5",
       "version_major": 2,
       "version_minor": 0
      },
      "text/plain": [
       "Dropdown(description='Team A:', index=13, options=('CRD', 'ATL', 'RAV', 'BUF', 'CAR', 'CHI', 'CIN', 'CLE', 'DA…"
      ]
     },
     "metadata": {},
     "output_type": "display_data"
    },
    {
     "data": {
      "application/vnd.jupyter.widget-view+json": {
       "model_id": "a3dd3aad6f2f4b429e0e5030930f9ea8",
       "version_major": 2,
       "version_minor": 0
      },
      "text/plain": [
       "Dropdown(description='Team B:', index=11, options=('CRD', 'ATL', 'RAV', 'BUF', 'CAR', 'CHI', 'CIN', 'CLE', 'DA…"
      ]
     },
     "metadata": {},
     "output_type": "display_data"
    },
    {
     "data": {
      "application/vnd.jupyter.widget-view+json": {
       "model_id": "518f0b2e84c24614875b2a39d56ae391",
       "version_major": 2,
       "version_minor": 0
      },
      "text/plain": [
       "Dropdown(description='Week:', index=36, options=(('2022 Week 2', np.int64(202202)), ('2022 Week 3', np.int64(2…"
      ]
     },
     "metadata": {},
     "output_type": "display_data"
    },
    {
     "data": {
      "application/vnd.jupyter.widget-view+json": {
       "model_id": "10f4914b7ea745638f25c7712c800760",
       "version_major": 2,
       "version_minor": 0
      },
      "text/plain": [
       "Button(description='Predict Game', style=ButtonStyle())"
      ]
     },
     "metadata": {},
     "output_type": "display_data"
    },
    {
     "data": {
      "application/vnd.jupyter.widget-view+json": {
       "model_id": "a1b1db48764e450385487ca77260d505",
       "version_major": 2,
       "version_minor": 0
      },
      "text/plain": [
       "Output(outputs=({'name': 'stdout', 'text': '\\x1b[1m1/1\\x1b[0m \\x1b[32m━━━━━━━━━━━━━━━━━━━━\\x1b[0m\\x1b[37m\\x1b[…"
      ]
     },
     "metadata": {},
     "output_type": "display_data"
    },
    {
     "data": {
      "application/vnd.jupyter.widget-view+json": {
       "model_id": "a97ed288b4264502a64e140491f8266a",
       "version_major": 2,
       "version_minor": 0
      },
      "text/plain": [
       "Output(outputs=({'name': 'stdout', 'text': 'No PCA loadings available for this week.\\n', 'output_type': 'strea…"
      ]
     },
     "metadata": {},
     "output_type": "display_data"
    }
   ],
   "source": [
    "# ---------------------------\n",
    "# Button Handler\n",
    "# ---------------------------\n",
    "def on_button_click(b):\n",
    "    with output:\n",
    "        clear_output()\n",
    "        team_a = team_a_widget.value\n",
    "        team_b = team_b_widget.value\n",
    "        week = week_widget.value\n",
    "\n",
    "        msg, _ = predict_game(team_a, team_b, week, interaction_model,\n",
    "                              mlp_embedding_df, gru_embedding_df,\n",
    "                              gru_embedding_cols, mlp_embedding_cols)\n",
    "        print(msg)\n",
    "        compare_embeddings(team_a, team_b, mlp_embedding_df, gru_embedding_df)\n",
    "        prev_week = get_previous_week(week, all_weeks)\n",
    "        #generate_embedding_map(gru_embedding_df, [team_a, team_b], prev_week)\n",
    "        fig = animate_gru_embeddings(gru_embedding_df)\n",
    "        display(fig)\n",
    "        update_pca_loadings_display(week)\n",
    "\n",
    "# ---------------------------\n",
    "# Display widgets and animation\n",
    "# ---------------------------\n",
    "predict_button = widgets.Button(description=\"Predict Game\")\n",
    "predict_button.on_click(on_button_click)\n",
    "\n",
    "display(team_a_widget, team_b_widget, week_widget, predict_button)\n",
    "display(output)\n",
    "display(loadings_output)"
   ]
  },
  {
   "cell_type": "code",
   "execution_count": null,
   "id": "2a706cd3-d131-4a4e-9876-2014ba905dee",
   "metadata": {},
   "outputs": [],
   "source": []
  }
 ],
 "metadata": {
  "kernelspec": {
   "display_name": "Python (nflvenv)",
   "language": "python",
   "name": "nflvenv"
  },
  "language_info": {
   "codemirror_mode": {
    "name": "ipython",
    "version": 3
   },
   "file_extension": ".py",
   "mimetype": "text/x-python",
   "name": "python",
   "nbconvert_exporter": "python",
   "pygments_lexer": "ipython3",
   "version": "3.9.6"
  }
 },
 "nbformat": 4,
 "nbformat_minor": 5
}
