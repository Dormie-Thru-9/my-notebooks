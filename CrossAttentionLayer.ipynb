{
 "cells": [
  {
   "cell_type": "code",
   "execution_count": 37,
   "id": "182d6203-d22d-402f-8a00-0a85b6c26062",
   "metadata": {},
   "outputs": [],
   "source": [
    "# Cross-Attention Fusion of GRU + Offseason Features\n",
    "\n",
    "import pandas as pd\n",
    "import numpy as np\n",
    "import tensorflow as tf\n",
    "from tensorflow.keras import layers\n",
    "from tensorflow.keras.layers import Dense, Dropout\n",
    "from sklearn.preprocessing import StandardScaler"
   ]
  },
  {
   "cell_type": "code",
   "execution_count": 38,
   "id": "d5716287-3cf8-439a-9bf4-7696b44e4a44",
   "metadata": {},
   "outputs": [],
   "source": [
    "# ---------------------------\n",
    "# Load Data\n",
    "# ---------------------------\n",
    "gru_df = pd.read_csv(\"gru_team_embeddings_by_week.csv\")\n",
    "offseason_df = pd.read_csv(\"offseason_2024_labeled.csv\")\n",
    "nfl_sched_2024 = pd.read_excel(\"nfl_2024_schedule.xlsx\")\n",
    "hist_df = pd.read_csv(\"final_hist_data.csv\")  # historical dataset with true feature names\n",
    "\n",
    "offseason_df['Team'] = ['CRD', 'ATL', 'RAV', 'BUF', 'CAR', 'CHI', 'CIN', 'CLE', 'DAL',\n",
    "              'DEN', 'DET', 'GNB', 'HTX', 'CLT', 'JAX', 'KAN', 'RAI', 'SDG',\n",
    "              'RAM', 'MIA', 'MIN', 'NWE', 'NOR', 'NYG', 'NYJ', 'PHI', 'PIT',\n",
    "              'SFO', 'SEA', 'TAM', 'OTI', 'WAS'] \n",
    "\n",
    "# ---------------------------\n",
    "# Scale numeric, preserve categorical\n",
    "# ---------------------------\n",
    "categorical_cols = [\"New Coach\", \"New QB\"]\n",
    "numeric_cols = [c for c in offseason_df.columns \n",
    "                if c not in [\"Improvement?\", \"Team\"] + categorical_cols]\n",
    "\n",
    "scaler = StandardScaler()\n",
    "offseason_scaled = offseason_df.copy()\n",
    "offseason_scaled[numeric_cols] = scaler.fit_transform(offseason_scaled[numeric_cols])\n",
    "offseason_scaled[categorical_cols] = offseason_df[categorical_cols]  # untouched\n",
    "\n",
    "feature_cols = numeric_cols + categorical_cols"
   ]
  },
  {
   "cell_type": "code",
   "execution_count": 39,
   "id": "0c072da3-35c0-428b-a6ef-9397248483b6",
   "metadata": {},
   "outputs": [],
   "source": [
    "# ---------------------------\n",
    "# Rename GRU embeddings to match hist features\n",
    "# ---------------------------\n",
    "gru_cols = [c for c in gru_df.columns if c.startswith(\"emb_\")]\n",
    "hist_feature_names = [c for c in hist_df.columns if c not in [\"Seasonweek\", \"Result\", \"Team\"]]\n",
    "\n",
    "assert len(gru_cols) == len(hist_feature_names), \\\n",
    "    f\"Mismatch: GRU embeddings = {len(gru_cols)}, hist features = {len(hist_feature_names)}\"\n",
    "\n",
    "gru_feature_map = {old: new for old, new in zip(gru_cols, hist_feature_names)}\n",
    "gru_df = gru_df.rename(columns=gru_feature_map)\n",
    "gru_cols = hist_feature_names  # now GRU embeddings have meaningful names\n",
    "\n",
    "all_feature_names = gru_cols + feature_cols"
   ]
  },
  {
   "cell_type": "code",
   "execution_count": 40,
   "id": "80e8cf8d-afcd-4af1-a46f-1ec0626474c5",
   "metadata": {},
   "outputs": [
    {
     "name": "stdout",
     "output_type": "stream",
     "text": [
      "Shape with GRU + offseason features: (1598, 34)\n"
     ]
    }
   ],
   "source": [
    "# ---------------------------\n",
    "# Merge off-season features into GRU\n",
    "# ---------------------------\n",
    "gru_with_feats = gru_df.merge(\n",
    "    offseason_scaled[[\"Team\"] + feature_cols],\n",
    "    left_on=\"team\", right_on=\"Team\", how=\"left\"\n",
    ").drop(columns=[\"Team\"])\n",
    "\n",
    "print(\"Shape with GRU + offseason features:\", gru_with_feats.shape)"
   ]
  },
  {
   "cell_type": "code",
   "execution_count": 41,
   "id": "79c37448-4170-4ba1-b0e3-dd98353b4661",
   "metadata": {},
   "outputs": [
    {
     "name": "stdout",
     "output_type": "stream",
     "text": [
      "Loaded 272 games.\n"
     ]
    }
   ],
   "source": [
    "# ---------------------------\n",
    "# Build Games List\n",
    "# ---------------------------\n",
    "games = []\n",
    "for _, row in nfl_sched_2024.iterrows():\n",
    "    games.append({\n",
    "        \"week\": int(row[\"Seasonweek\"]),\n",
    "        \"away\": row[\"Away Team\"],\n",
    "        \"home\": row[\"Home Team\"],\n",
    "        \"winner\": row[\"Winner\"]\n",
    "    })\n",
    "print(f\"Loaded {len(games)} games.\")"
   ]
  },
  {
   "cell_type": "code",
   "execution_count": 42,
   "id": "dc55dff0-31aa-42f1-94dd-2a5270dbe9fd",
   "metadata": {},
   "outputs": [],
   "source": [
    "# ---------------------------\n",
    "# Helper: Team vector\n",
    "# ---------------------------\n",
    "def get_team_vector(team, week):\n",
    "    \"\"\"Concatenate GRU embeddings + offseason features for a given team/week.\"\"\"\n",
    "    row = gru_with_feats[(gru_with_feats[\"team\"] == team) &\n",
    "                         (gru_with_feats[\"seasonweek\"] == week)]\n",
    "    if row.empty:\n",
    "        return None\n",
    "    gru_emb = row[gru_cols].values.flatten()\n",
    "    feats = row[feature_cols].values.flatten()\n",
    "    return np.concatenate([gru_emb, feats])"
   ]
  },
  {
   "cell_type": "code",
   "execution_count": 43,
   "id": "d85af200-3374-4898-bd3c-c9390bc3d694",
   "metadata": {},
   "outputs": [],
   "source": [
    "# ---------------------------\n",
    "# Cross-Attention Layer\n",
    "# ---------------------------\n",
    "class CrossAttentionLayer(layers.Layer):\n",
    "    def __init__(self, embed_dim, num_heads=2, ff_dim=64, rate=0.1):\n",
    "        super().__init__()\n",
    "        self.attn = layers.MultiHeadAttention(num_heads=num_heads, key_dim=embed_dim)\n",
    "        self.ffn = tf.keras.Sequential([\n",
    "            Dense(ff_dim, activation=\"relu\"),\n",
    "            Dense(embed_dim),\n",
    "        ])\n",
    "        self.layernorm1 = layers.LayerNormalization(epsilon=1e-6)\n",
    "        self.layernorm2 = layers.LayerNormalization(epsilon=1e-6)\n",
    "        self.dropout1 = Dropout(rate)\n",
    "        self.dropout2 = Dropout(rate)\n",
    "\n",
    "    def call(self, query, value, training=False):\n",
    "        attn_output = self.attn(query, value)\n",
    "        attn_output = self.dropout1(attn_output, training=training)\n",
    "        out1 = self.layernorm1(query + attn_output)\n",
    "        ffn_output = self.ffn(out1)\n",
    "        ffn_output = self.dropout2(ffn_output, training=training)\n",
    "        return self.layernorm2(out1 + ffn_output)"
   ]
  },
  {
   "cell_type": "code",
   "execution_count": 44,
   "id": "83e57afa-4a37-4352-941c-06ca803e2ae1",
   "metadata": {},
   "outputs": [
    {
     "name": "stdout",
     "output_type": "stream",
     "text": [
      "✅ Saved: (272, 68)\n",
      "     week away_team home_team winner    A_Rate  A_Def Passer Rate  \\\n",
      "0  202401       RAV       KAN    KAN  0.705361           0.419476   \n",
      "1  202401       GNB       PHI    PHI -0.372874          -0.751220   \n",
      "2  202401       PIT       ATL    PIT -2.269074          -1.371742   \n",
      "3  202401       CRD       BUF    BUF  0.889368          -0.493526   \n",
      "4  202401       CAR       NOR    NOR -0.076837          -0.796135   \n",
      "\n",
      "   A_Def Rush Att  A_Rush Att  A_TD allowed  A_Def Cmp%  ...      B_QB  \\\n",
      "0       -1.393290   -0.370963     -0.774228    0.027848  ... -0.579894   \n",
      "1       -0.798091    0.293588     -0.279107   -0.215493  ...  0.472573   \n",
      "2       -0.005273    1.462215     -0.596726   -0.246090  ... -0.600479   \n",
      "3        1.628955   -0.152389      0.738619   -1.696822  ...  2.945529   \n",
      "4        1.242722   -0.889176     -0.900348   -0.495276  ... -1.289932   \n",
      "\n",
      "       B_OL      B_LB      B_DE      B_ST      B_DL      B_RB      B_WR  \\\n",
      "0  2.130383  0.490881 -1.683697 -1.286602  0.644045 -1.018485  0.475300   \n",
      "1  0.187915  2.804124 -0.231322 -1.883241  1.042551  0.806855 -1.246077   \n",
      "2  0.638079  0.038097  2.425118 -1.431523 -0.389023 -0.249470  3.243801   \n",
      "3  0.853473 -1.799519 -0.713350 -1.433004 -0.067857  0.198781  0.570304   \n",
      "4  0.115214 -0.969042 -1.350781  1.655146 -0.050166 -0.900281 -1.842586   \n",
      "\n",
      "   B_New Coach  B_New QB  \n",
      "0    -0.667930  0.531610  \n",
      "1    -1.242574 -0.528496  \n",
      "2     0.819104 -0.251184  \n",
      "3    -0.573090 -0.927290  \n",
      "4     0.812888  0.652607  \n",
      "\n",
      "[5 rows x 68 columns]\n"
     ]
    }
   ],
   "source": [
    "# ---------------------------\n",
    "# Build Matchup Embeddings\n",
    "# ---------------------------\n",
    "attended_rows = []\n",
    "for g in games:\n",
    "    week = g[\"week\"]\n",
    "    away_team, home_team = g[\"away\"], g[\"home\"]\n",
    "\n",
    "    away_vec = get_team_vector(away_team, week)\n",
    "    home_vec = get_team_vector(home_team, week)\n",
    "\n",
    "    if away_vec is None or home_vec is None:\n",
    "        print(f\"Skipping {away_team} vs {home_team} (week {week}) — missing data\")\n",
    "        continue\n",
    "\n",
    "    away_in = tf.expand_dims(tf.expand_dims(away_vec, 0), 0)\n",
    "    home_in = tf.expand_dims(tf.expand_dims(home_vec, 0), 0)\n",
    "\n",
    "    embed_dim = away_vec.shape[0]\n",
    "    cross_layer = CrossAttentionLayer(embed_dim)\n",
    "\n",
    "    away_attended = tf.squeeze(cross_layer(away_in, home_in)).numpy()\n",
    "    home_attended = tf.squeeze(cross_layer(home_in, away_in)).numpy()\n",
    "\n",
    "    attended_rows.append({\n",
    "        \"week\": week,\n",
    "        \"away_team\": away_team,\n",
    "        \"home_team\": home_team,\n",
    "        \"winner\": g[\"winner\"],\n",
    "        **{f\"A_{name}\": v for name, v in zip(all_feature_names, away_attended)},\n",
    "        **{f\"B_{name}\": v for name, v in zip(all_feature_names, home_attended)},\n",
    "    })\n",
    "\n",
    "attended_df = pd.DataFrame(attended_rows)\n",
    "attended_df.to_csv(\"crossatt_gru_offseason_scaled_named.csv\", index=False)\n",
    "\n",
    "print(\"✅ Saved:\", attended_df.shape)\n",
    "print(attended_df.head())"
   ]
  },
  {
   "cell_type": "code",
   "execution_count": null,
   "id": "cf227d34-a325-458a-b877-53de778f5837",
   "metadata": {},
   "outputs": [],
   "source": []
  }
 ],
 "metadata": {
  "kernelspec": {
   "display_name": "Python (nflvenv)",
   "language": "python",
   "name": "nflvenv"
  },
  "language_info": {
   "codemirror_mode": {
    "name": "ipython",
    "version": 3
   },
   "file_extension": ".py",
   "mimetype": "text/x-python",
   "name": "python",
   "nbconvert_exporter": "python",
   "pygments_lexer": "ipython3",
   "version": "3.9.6"
  }
 },
 "nbformat": 4,
 "nbformat_minor": 5
}
