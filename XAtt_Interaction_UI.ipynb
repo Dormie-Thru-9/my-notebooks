{
 "cells": [
  {
   "cell_type": "code",
   "execution_count": 34,
   "id": "0dfedb1f-e43c-4b42-b8ee-e102fb0a274f",
   "metadata": {},
   "outputs": [],
   "source": [
    "# ============================================================\n",
    "# NFL Game Predictor — Cross-Attention + Pairwise Interaction + SHAP\n",
    "# ============================================================\n",
    "\n",
    "import pandas as pd\n",
    "import numpy as np\n",
    "import shap\n",
    "import matplotlib.pyplot as plt\n",
    "from tensorflow.keras.models import load_model\n",
    "from ipywidgets import widgets, Output\n",
    "from IPython.display import display, clear_output"
   ]
  },
  {
   "cell_type": "code",
   "execution_count": 35,
   "id": "bef17d09-8a7c-471f-ad46-0d4651a9e21f",
   "metadata": {},
   "outputs": [
    {
     "name": "stdout",
     "output_type": "stream",
     "text": [
      "✅ Model input dim: 129\n",
      "✅ Loaded 272 matchups from cross-attention embeddings\n"
     ]
    }
   ],
   "source": [
    "# ------------------------------------------------------------\n",
    "# 1️⃣ Load Model and Cross-Attention Embeddings\n",
    "# ------------------------------------------------------------\n",
    "interaction_model = load_model(\"XAtt_interaction_model.keras\")\n",
    "crossattn_df = pd.read_csv(\"crossattn_gru_offseason_embeddings.csv\")\n",
    "\n",
    "attn_cols_A = [c for c in crossattn_df.columns if c.startswith(\"A_attn_\")]\n",
    "attn_cols_B = [c for c in crossattn_df.columns if c.startswith(\"B_attn_\")]\n",
    "\n",
    "team_list  = sorted(set(crossattn_df[\"away_team\"]).union(set(crossattn_df[\"home_team\"])))\n",
    "week_list  = sorted(crossattn_df[\"week\"].unique())\n",
    "\n",
    "print(f\"✅ Model input dim: {interaction_model.input_shape[1]}\")\n",
    "print(f\"✅ Loaded {len(crossattn_df)} matchups from cross-attention embeddings\")\n"
   ]
  },
  {
   "cell_type": "code",
   "execution_count": 36,
   "id": "a650210b-60ab-4be1-92ef-0a1004262032",
   "metadata": {},
   "outputs": [],
   "source": [
    "# ------------------------------------------------------------\n",
    "# 2️⃣ Build Input Vector with Interaction Features\n",
    "# ------------------------------------------------------------\n",
    "def build_input_vector(team_a, team_b, week):\n",
    "    row = crossattn_df.query(\"away_team == @team_a & home_team == @team_b & week == @week\")\n",
    "    if row.empty:\n",
    "        print(f\"❌ No matchup found for {team_a} vs {team_b} in week {week}\")\n",
    "        return None, None\n",
    "\n",
    "    A = row[attn_cols_A].values\n",
    "    B = row[attn_cols_B].values\n",
    "\n",
    "    diff = A - B\n",
    "    prod = A * B\n",
    "    cos  = np.array([[np.dot(A.flatten(), B.flatten()) /\n",
    "                     (np.linalg.norm(A) * np.linalg.norm(B))]])\n",
    "\n",
    "    vec = np.concatenate([A, B, diff, prod, cos], axis=None)\n",
    "    expected_dim = interaction_model.input_shape[1]\n",
    "    if vec.size != expected_dim:\n",
    "        print(f\"⚠️ Resizing from {vec.size} → {expected_dim}\")\n",
    "        if vec.size < expected_dim:\n",
    "            vec = np.pad(vec, (0, expected_dim - vec.size))\n",
    "        else:\n",
    "            vec = vec[:expected_dim]\n",
    "    # feature names\n",
    "    fnames = (\n",
    "        [f\"A_{c}\" for c in attn_cols_A] +\n",
    "        [f\"B_{c}\" for c in attn_cols_B] +\n",
    "        [f\"DIFF_{c}\" for c in attn_cols_A] +\n",
    "        [f\"PROD_{c}\" for c in attn_cols_A] +\n",
    "        [\"COSINE_SIM\"]\n",
    "    )\n",
    "    return vec.reshape(1, -1), fnames\n"
   ]
  },
  {
   "cell_type": "code",
   "execution_count": 37,
   "id": "146d3f31-9177-4a7a-a991-28f94b15079e",
   "metadata": {},
   "outputs": [],
   "source": [
    "# ------------------------------------------------------------\n",
    "# 3️⃣ Predict Matchup\n",
    "# ------------------------------------------------------------\n",
    "def predict_matchup(team_a, team_b, week):\n",
    "    x, fnames = build_input_vector(team_a, team_b, week)\n",
    "    if x is None:\n",
    "        return None, None, None\n",
    "    prob = interaction_model.predict(x, verbose=0)[0][0]\n",
    "    winner = team_a if prob >= 0.5 else team_b\n",
    "    return winner, prob, (x, fnames)"
   ]
  },
  {
   "cell_type": "code",
   "execution_count": 46,
   "id": "2d82394d-bf17-47b3-bc7c-5b208fe1018c",
   "metadata": {},
   "outputs": [],
   "source": [
    "# ------------------------------------------------------------\n",
    "# 4️⃣ SHAP Waterfall Plot\n",
    "# ------------------------------------------------------------\n",
    "def plot_shap_waterfall(model, x, feature_names, title):\n",
    "    # Ensure correct shape for single instance\n",
    "    x = np.array(x).reshape(1, -1)\n",
    "\n",
    "    # Use KernelExplainer for dense models\n",
    "    explainer = shap.KernelExplainer(lambda z: model.predict(z, verbose=0), np.zeros((1, x.shape[1])))\n",
    "    shap_values = explainer.shap_values(x, nsamples=100)\n",
    "    base_value = explainer.expected_value\n",
    "\n",
    "    # Handle list or ndarray from SHAP output\n",
    "    if isinstance(shap_values, list):\n",
    "        shap_vals = shap_values[0].flatten()\n",
    "        base_val = base_value[0] if isinstance(base_value, (list, np.ndarray)) else base_value\n",
    "    else:\n",
    "        shap_vals = shap_values.flatten()\n",
    "        base_val = base_value\n",
    "\n",
    "    # Build explanation object\n",
    "    exp = shap.Explanation(\n",
    "        values=shap_vals,\n",
    "        base_values=np.array(base_val),\n",
    "        data=x.flatten(),\n",
    "        feature_names=feature_names\n",
    "    )\n",
    "\n",
    "    # Plot waterfall cleanly\n",
    "    plt.figure(figsize=(10, 7))\n",
    "    shap.plots.waterfall(exp, max_display=15, show=False)\n",
    "    plt.title(title, fontsize=12, pad=20)\n",
    "    plt.tight_layout()\n",
    "    plt.show()"
   ]
  },
  {
   "cell_type": "code",
   "execution_count": 47,
   "id": "3060f77e-f567-450b-8dff-10b8212590f8",
   "metadata": {},
   "outputs": [],
   "source": [
    "# ------------------------------------------------------------\n",
    "# 5️⃣ UI Elements\n",
    "# ------------------------------------------------------------\n",
    "team_a_widget = widgets.Dropdown(options=team_list, description=\"Away Team:\")\n",
    "team_b_widget = widgets.Dropdown(options=team_list, description=\"Home Team:\")\n",
    "week_widget = widgets.Dropdown(\n",
    "    options=[(f\"{w//100} Week {w%100}\", w) for w in week_list],\n",
    "    value=week_list[0],\n",
    "    description=\"Week:\"\n",
    ")\n",
    "predict_button = widgets.Button(description=\"Predict Game\", button_style=\"success\")\n",
    "output = Output()"
   ]
  },
  {
   "cell_type": "code",
   "execution_count": 48,
   "id": "a0f34949-24aa-41fb-90dd-de446aa6e224",
   "metadata": {},
   "outputs": [],
   "source": [
    "# ------------------------------------------------------------\n",
    "# 6️⃣ Button Action\n",
    "# ------------------------------------------------------------\n",
    "def on_predict_click(b):\n",
    "    with output:\n",
    "        clear_output()\n",
    "        away, home, week = team_a_widget.value, team_b_widget.value, week_widget.value\n",
    "        print(f\"🏈 Predicting {away} (Away) vs {home} (Home) — Week {week}\")\n",
    "        winner, prob, (x, fnames) = predict_matchup(away, home, week)\n",
    "\n",
    "        if winner is None:\n",
    "            print(\"❌ Could not make a prediction (data missing).\")\n",
    "            return\n",
    "\n",
    "        print(f\"✅ Predicted Winner: {winner}\")\n",
    "        print(f\"📊 Away Win Probability: {prob:.3f}\")\n",
    "\n",
    "        print(\"\\n🔍 SHAP Explanation (Feature Contributions):\")\n",
    "        try:\n",
    "            plot_shap_waterfall(interaction_model, x, fnames,\n",
    "                                f\"{away} vs {home} — Week {week}\")\n",
    "        except Exception as e:\n",
    "            print(f\"SHAP explanation failed: {e}\")\n",
    "\n",
    "predict_button.on_click(on_predict_click)"
   ]
  },
  {
   "cell_type": "code",
   "execution_count": 49,
   "id": "07d6473f-720b-4d81-b07c-7e3fdc4248e8",
   "metadata": {},
   "outputs": [
    {
     "data": {
      "application/vnd.jupyter.widget-view+json": {
       "model_id": "7a46515f98844dfebf239097df499d93",
       "version_major": 2,
       "version_minor": 0
      },
      "text/plain": [
       "Dropdown(description='Away Team:', options=('ATL', 'BUF', 'CAR', 'CHI', 'CIN', 'CLE', 'CLT', 'CRD', 'DAL', 'DE…"
      ]
     },
     "metadata": {},
     "output_type": "display_data"
    },
    {
     "data": {
      "application/vnd.jupyter.widget-view+json": {
       "model_id": "6eb509acf31a41078f03fd5ff661dbe1",
       "version_major": 2,
       "version_minor": 0
      },
      "text/plain": [
       "Dropdown(description='Home Team:', options=('ATL', 'BUF', 'CAR', 'CHI', 'CIN', 'CLE', 'CLT', 'CRD', 'DAL', 'DE…"
      ]
     },
     "metadata": {},
     "output_type": "display_data"
    },
    {
     "data": {
      "application/vnd.jupyter.widget-view+json": {
       "model_id": "70444febf36f4f688f68a17768066392",
       "version_major": 2,
       "version_minor": 0
      },
      "text/plain": [
       "Dropdown(description='Week:', options=(('2024 Week 1', np.int64(202401)), ('2024 Week 2', np.int64(202402)), (…"
      ]
     },
     "metadata": {},
     "output_type": "display_data"
    },
    {
     "data": {
      "application/vnd.jupyter.widget-view+json": {
       "model_id": "7b8b20928a3b4e10bd29a687f2b8dd56",
       "version_major": 2,
       "version_minor": 0
      },
      "text/plain": [
       "Button(button_style='success', description='Predict Game', style=ButtonStyle())"
      ]
     },
     "metadata": {},
     "output_type": "display_data"
    },
    {
     "data": {
      "application/vnd.jupyter.widget-view+json": {
       "model_id": "20b7a23d7139415c9fa168de5214c77b",
       "version_major": 2,
       "version_minor": 0
      },
      "text/plain": [
       "Output()"
      ]
     },
     "metadata": {},
     "output_type": "display_data"
    }
   ],
   "source": [
    "# ------------------------------------------------------------\n",
    "# 7️⃣ Display Widgets\n",
    "# ------------------------------------------------------------\n",
    "display(team_a_widget, team_b_widget, week_widget, predict_button, output)"
   ]
  },
  {
   "cell_type": "code",
   "execution_count": null,
   "id": "b0061529-31fc-4a60-b3d1-4ee6a937753f",
   "metadata": {},
   "outputs": [],
   "source": []
  }
 ],
 "metadata": {
  "kernelspec": {
   "display_name": "Python (nflvenv)",
   "language": "python",
   "name": "nflvenv"
  },
  "language_info": {
   "codemirror_mode": {
    "name": "ipython",
    "version": 3
   },
   "file_extension": ".py",
   "mimetype": "text/x-python",
   "name": "python",
   "nbconvert_exporter": "python",
   "pygments_lexer": "ipython3",
   "version": "3.9.6"
  }
 },
 "nbformat": 4,
 "nbformat_minor": 5
}
